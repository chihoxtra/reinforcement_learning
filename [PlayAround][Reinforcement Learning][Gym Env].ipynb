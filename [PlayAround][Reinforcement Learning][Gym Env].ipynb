{
 "cells": [
  {
   "cell_type": "code",
   "execution_count": 1,
   "metadata": {},
   "outputs": [],
   "source": [
    "import gym\n",
    "import sys\n",
    "import numpy as np\n",
    "import matplotlib.pyplot as plt\n",
    "from collections import defaultdict"
   ]
  },
  {
   "cell_type": "code",
   "execution_count": 2,
   "metadata": {},
   "outputs": [
    {
     "name": "stdout",
     "output_type": "stream",
     "text": [
      "State space: Box(4,)\n",
      "- low: [-4.8000002e+00 -3.4028235e+38 -4.1887903e-01 -3.4028235e+38]\n",
      "- high: [4.8000002e+00 3.4028235e+38 4.1887903e-01 3.4028235e+38]\n",
      "Actions space: Discrete(2)\n"
     ]
    }
   ],
   "source": [
    "env = gym.make('CartPole-v0') #MsPacman-v0\n",
    "# Explore state (observation) space\n",
    "print(\"State space:\", env.observation_space)\n",
    "print(\"- low:\", env.observation_space.low)\n",
    "print(\"- high:\", env.observation_space.high)\n",
    "print(\"Actions space:\", env.action_space)"
   ]
  },
  {
   "cell_type": "code",
   "execution_count": 3,
   "metadata": {},
   "outputs": [],
   "source": [
    "def create_uniform_grid(low, high, bins=(10, 10)):\n",
    "    \"\"\"Define a uniformly-spaced grid that can be used to discretize a space.\n",
    "    \n",
    "    Parameters\n",
    "    ----------\n",
    "    low : array_like\n",
    "        Lower bounds for each dimension of the continuous space.\n",
    "    high : array_like\n",
    "        Upper bounds for each dimension of the continuous space.\n",
    "    bins : tuple\n",
    "        Number of bins along each corresponding dimension.\n",
    "    \n",
    "    Returns\n",
    "    -------\n",
    "    grid : list of array_like\n",
    "        A list of arrays containing split points for each dimension.\n",
    "    \"\"\"\n",
    "    return [np.linspace(low[i], high[i], num=(bins[i]+1))[1:-1] for i in range(len(low))]\n",
    "\n",
    "def discretize(sample, grid):\n",
    "    \"\"\"Discretize a sample as per given grid.\n",
    "    \n",
    "    Parameters\n",
    "    ----------\n",
    "    sample : array_like\n",
    "        A single sample from the (original) continuous space.\n",
    "    grid : list of array_like\n",
    "        A list of arrays containing split points for each dimension.\n",
    "    \n",
    "    Returns\n",
    "    -------\n",
    "    discretized_sample : array_like\n",
    "        A sequence of integers with the same number of dimensions as sample.\n",
    "    \"\"\"\n",
    "    # TODO: Implement this\n",
    "    return [np.digitize(sample[i], grid[i]) for i in range(len(grid)) ]"
   ]
  },
  {
   "cell_type": "code",
   "execution_count": 4,
   "metadata": {},
   "outputs": [],
   "source": [
    "class GymAgent:\n",
    "\n",
    "    def __init__(self, nS=(210, 160, 3), nA=9, state_grid=None, gamma=0.9, alpha=0.1, eps=0.9):\n",
    "        \"\"\" Initialize agent.\n",
    "\n",
    "        Params\n",
    "        ======\n",
    "        - nA: number of actions available to the agent\n",
    "        \"\"\"\n",
    "        self.nA = nA\n",
    "        self.state_grid = state_grid\n",
    "        self.gamma = gamma\n",
    "        self.alpha = 0.1\n",
    "        self.eps = eps\n",
    "        self.Q = defaultdict(lambda: np.zeros(self.nA))\n",
    "        \n",
    "    def convertState(self, state):\n",
    "        return tuple(np.array(discretize(state, self.state_grid)))\n",
    "    \n",
    "    def getExpectedValue(self, state):\n",
    "        sk = self.convertState(state)\n",
    "        #sk = str(tuple(current_state.flatten())).replace(', ','')\n",
    "        ev = (1-self.eps)*np.argmax(self.Q[sk])+(self.eps/self.nA)*sum([self.Q[sk][ai] for ai in range(self.nA)])\n",
    "        return ev\n",
    "\n",
    "    def select_action(self, state, mode='train'):\n",
    "        \"\"\" Given the state, select an action.\n",
    "\n",
    "        Params\n",
    "        ======\n",
    "        - state: the current state of the environment\n",
    "\n",
    "        Returns\n",
    "        =======\n",
    "        - action: an integer, compatible with the task's action space\n",
    "        \"\"\"\n",
    "        sk = self.convertState(state)\n",
    "        \n",
    "        if mode == 'train' and np.random.rand() < self.eps:\n",
    "            a = np.random.choice(self.nA)\n",
    "        else:\n",
    "            a = np.argmax(self.Q[sk])\n",
    "        \n",
    "        return a\n",
    "\n",
    "    def update_Q(self, state, action, reward, next_state, done):\n",
    "        \"\"\" Update the agent's knowledge, using the most recently sampled tuple.\n",
    "\n",
    "        Params\n",
    "        ======\n",
    "        - state: the previous state of the environment\n",
    "        - action: the agent's previous choice of action\n",
    "        - reward: last reward received\n",
    "        - next_state: the current state of the environment\n",
    "        - done: whether the episode is complete (True or False)\n",
    "        \"\"\"\n",
    "        sk = self.convertState(state)\n",
    "        #sk = str(tuple(current_state.flatten())).replace(', ','')\n",
    "        target_value = reward + self.gamma*self.getExpectedValue(next_state)\n",
    "        current_value = self.Q[sk][action]\n",
    "        self.Q[sk][action] += self.alpha*(target_value - current_value)\n",
    "        \n",
    "    def run(self, env, num_episodes=100, mode='train'):\n",
    "        average_score = []\n",
    "        tmp_score_hist = []\n",
    "        for t in range(num_episodes):\n",
    "            score = 0\n",
    "            init_state = env.reset()\n",
    "            current_state = init_state\n",
    "            while True:\n",
    "                #action = env.action_space.sample()\n",
    "                action = self.select_action(current_state, mode)\n",
    "                \n",
    "                if mode=='test':\n",
    "                    env.render()\n",
    "\n",
    "                next_state, reward, done, _ = env.step(action)\n",
    "                if mode=='train':\n",
    "                    self.update_Q(current_state, action, reward, next_state, done)\n",
    "                score += reward\n",
    "                if done:\n",
    "                    tmp_score_hist.append(score)\n",
    "                    break\n",
    "                else:\n",
    "                    current_state = next_state\n",
    "            #end of while loop\n",
    "\n",
    "            if t%(num_episodes/10) == 0: #decay eps\n",
    "                gym_agent.eps = max(gym_agent.eps*0.95,0.1)\n",
    "                \n",
    "            if t%100 == 0:\n",
    "                avg_score = sum(tmp_score_hist)/len(tmp_score_hist)\n",
    "                tmp_score_hist = []\n",
    "                average_score.append(avg_score)\n",
    "                print(\"\\rEpisode {}/{}. Score: {}. Qtable size: {}. eps: {}.   \".format(t, num_episodes, \n",
    "                                                                                        avg_score, \n",
    "                                                                                        len(gym_agent.Q),\n",
    "                                                                                        gym_agent.eps), end=\"\")\n",
    "                sys.stdout.flush()\n",
    "            #end of one episode\n",
    "        return average_score"
   ]
  },
  {
   "cell_type": "code",
   "execution_count": 6,
   "metadata": {},
   "outputs": [],
   "source": [
    "bins = tuple([80 for i in range(len(env.observation_space.high))])\n",
    "state_grid = create_uniform_grid(env.observation_space.low, env.observation_space.high, bins=bins)\n",
    "gym_agent = GymAgent(env.observation_space.shape, env.action_space.n, state_grid)"
   ]
  },
  {
   "cell_type": "code",
   "execution_count": null,
   "metadata": {},
   "outputs": [
    {
     "name": "stdout",
     "output_type": "stream",
     "text": [
      "Episode 303500/5000000. Score: 23.7. Qtable size: 3812. eps: 0.855.    "
     ]
    }
   ],
   "source": [
    "average_score = gym_agent.run(env, 5000000, mode='train')       \n",
    "plt.plot(average_score)\n",
    "#env.close()"
   ]
  },
  {
   "cell_type": "code",
   "execution_count": 13,
   "metadata": {},
   "outputs": [
    {
     "name": "stdout",
     "output_type": "stream",
     "text": [
      "\r",
      "Episode 0/2. Score: 28.0. Qtable size: 1342. eps: 0.5119200830488138.   "
     ]
    }
   ],
   "source": [
    "average_score = gym_agent.run(env, 2, mode='test')"
   ]
  },
  {
   "cell_type": "code",
   "execution_count": 201,
   "metadata": {},
   "outputs": [],
   "source": []
  },
  {
   "cell_type": "code",
   "execution_count": 177,
   "metadata": {},
   "outputs": [
    {
     "data": {
      "image/png": "[encoded data removed]",
      "text/plain": [
       "<Figure size 432x288 with 1 Axes>"
      ]
     },
     "metadata": {},
     "output_type": "display_data"
    }
   ],
   "source": []
  },
  {
   "cell_type": "code",
   "execution_count": null,
   "metadata": {},
   "outputs": [],
   "source": []
  },
  {
   "cell_type": "code",
   "execution_count": null,
   "metadata": {},
   "outputs": [],
   "source": []
  }
 ],
 "metadata": {
  "kernelspec": {
   "display_name": "Python 3",
   "language": "python",
   "name": "python3"
  },
  "language_info": {
   "codemirror_mode": {
    "name": "ipython",
    "version": 3
   },
   "file_extension": ".py",
   "mimetype": "text/x-python",
   "name": "python",
   "nbconvert_exporter": "python",
   "pygments_lexer": "ipython3",
   "version": "3.5.5"
  }
 },
 "nbformat": 4,
 "nbformat_minor": 2
}
