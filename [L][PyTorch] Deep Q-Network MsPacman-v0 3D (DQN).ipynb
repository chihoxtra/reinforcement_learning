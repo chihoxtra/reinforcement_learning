{
 "cells": [
  {
   "cell_type": "markdown",
   "metadata": {},
   "source": [
    "The problem statement:\n",
    "https://gym.openai.com/envs/MsPacman-v0"
   ]
  },
  {
   "cell_type": "code",
   "execution_count": 1,
   "metadata": {},
   "outputs": [
    {
     "name": "stdout",
     "output_type": "stream",
     "text": [
      "Requirement already satisfied: pyvirtualdisplay in /Users/samuelpun_old/anaconda3/lib/python3.6/site-packages (0.2.1)\n",
      "Requirement already satisfied: EasyProcess in /Users/samuelpun_old/anaconda3/lib/python3.6/site-packages (from pyvirtualdisplay) (0.2.5)\n",
      "\u001b[33mYou are using pip version 18.0, however version 18.1 is available.\n",
      "You should consider upgrading via the 'pip install --upgrade pip' command.\u001b[0m\n"
     ]
    }
   ],
   "source": [
    "%load_ext autoreload\n",
    "%autoreload 2\n",
    "\n",
    "import gym\n",
    "#!pip3 install box2d\n",
    "import random\n",
    "import torch\n",
    "from torchvision import transforms\n",
    "\n",
    "import numpy as np\n",
    "from collections import deque\n",
    "\n",
    "import matplotlib.pyplot as plt\n",
    "%matplotlib inline\n",
    "\n",
    "from dqn_agent_3d import Agent\n",
    "\n",
    "!python -m pip install pyvirtualdisplay\n",
    "from pyvirtualdisplay import Display\n",
    "display = Display(visible=0, size=(1400, 900))\n",
    "display.start()\n",
    "\n",
    "is_ipython = 'inline' in plt.get_backend()\n",
    "if is_ipython:\n",
    "    from IPython import display\n",
    "\n",
    "plt.ion()"
   ]
  },
  {
   "cell_type": "code",
   "execution_count": 2,
   "metadata": {},
   "outputs": [
    {
     "name": "stdout",
     "output_type": "stream",
     "text": [
      "State shape:  (210, 160, 3)\n",
      "Number of actions:  9\n"
     ]
    }
   ],
   "source": [
    "env = gym.make('MsPacman-v0')\n",
    "env.seed(0)\n",
    "state_space = env.observation_space.shape\n",
    "action_space = env.action_space.n\n",
    "input_shape = (84,84)\n",
    "states_stack_depth = 4\n",
    "print('State shape: ', state_space)\n",
    "print('Number of actions: ', action_space)"
   ]
  },
  {
   "cell_type": "code",
   "execution_count": 3,
   "metadata": {},
   "outputs": [],
   "source": [
    "# For inputs basic pre-processing\n",
    "encode_states = transforms.Compose([\n",
    "    transforms.ToPILImage(),\n",
    "    transforms.Grayscale(num_output_channels=1),\n",
    "    transforms.Resize(input_shape),\n",
    "    transforms.ToTensor()\n",
    "    ]\n",
    ")"
   ]
  },
  {
   "cell_type": "code",
   "execution_count": 4,
   "metadata": {},
   "outputs": [
    {
     "data": {
      "text/plain": [
       "torch.Size([1, 84, 84])"
      ]
     },
     "execution_count": 4,
     "metadata": {},
     "output_type": "execute_result"
    }
   ],
   "source": [
    "#import images\n",
    "s = env.reset()\n",
    "encode_states(s).shape"
   ]
  },
  {
   "cell_type": "code",
   "execution_count": 8,
   "metadata": {},
   "outputs": [
    {
     "data": {
      "image/png": "[encoded data removed]",
      "text/plain": [
       "<Figure size 432x288 with 1 Axes>"
      ]
     },
     "metadata": {},
     "output_type": "display_data"
    }
   ],
   "source": [
    "untrained_agent = Agent(state_size=states_stack_depth, action_size=action_space, seed=10)\n",
    "\n",
    "# watch an untrained agent\n",
    "states_stack = deque([torch.zeros(input_shape) for z in range(states_stack_depth)], maxlen=states_stack_depth)\n",
    "\n",
    "state = env.reset()\n",
    "state_inputs = state2StackedInputs(state, states_stack)\n",
    "\n",
    "img = plt.imshow(env.render(mode='rgb_array'))\n",
    "for j in range(1000):\n",
    "    action = untrained_agent.act(state_inputs)\n",
    "    img.set_data(env.render(mode='rgb_array')) \n",
    "    plt.axis('off')\n",
    "    display.display(plt.gcf())\n",
    "    display.clear_output(wait=True)\n",
    "    next_state, reward, done, _ = env.step(action)\n",
    "    if done:\n",
    "        break \n",
    "        \n",
    "env.close()"
   ]
  },
  {
   "cell_type": "code",
   "execution_count": 5,
   "metadata": {},
   "outputs": [],
   "source": [
    "agent = Agent(state_size=states_stack_depth, action_size=action_space, seed=0)"
   ]
  },
  {
   "cell_type": "code",
   "execution_count": 6,
   "metadata": {},
   "outputs": [],
   "source": [
    "def state2StackedInputs(s, states_stack):\n",
    "    encoded_state = encode_states(s) #210x160x3 -> 1x84x84\n",
    "    \n",
    "    #combine the max element between this frame and last frame  \n",
    "    merged_next_state = torch.stack((encoded_state.squeeze(),states_stack[-1]), dim=0).max(dim=0)[0]\n",
    "    states_stack.append(merged_next_state) #last in the stack and first is out hence\n",
    "\n",
    "    #convert to tensor for input\n",
    "    state_inputs = torch.stack([states_stack[i] for i in range(len(states_stack))]).numpy()\n",
    "    return state_inputs"
   ]
  },
  {
   "cell_type": "code",
   "execution_count": null,
   "metadata": {},
   "outputs": [
    {
     "name": "stdout",
     "output_type": "stream",
     "text": [
      "Episode 10\tAverage Score: 223.00"
     ]
    }
   ],
   "source": [
    "model_dir = 'saved_models/'\n",
    "model_name = 'MsPacman-3D-v0.pt'\n",
    "\n",
    "def dqn_3D(n_episodes=1000, max_t=1000, eps_start=1.0, eps_end=0.01, eps_decay=0.9995):\n",
    "    \"\"\"Deep Q-Learning.\n",
    "    \n",
    "    Params\n",
    "    ======\n",
    "        n_episodes (int): maximum number of training episodes\n",
    "        max_t (int): maximum number of timesteps per episode\n",
    "        eps_start (float): starting value of epsilon, for epsilon-greedy action selection\n",
    "        eps_end (float): minimum value of epsilon\n",
    "        eps_decay (float): multiplicative factor (per episode) for decreasing epsilon\n",
    "    \"\"\"\n",
    "    scores = []                        # list containing scores from each episode\n",
    "    scores_window = deque(maxlen=100)  # last 100 scores\n",
    "    \n",
    "    #stack to keep track of most recent states\n",
    "    states_stack = deque([torch.zeros(input_shape) for z in range(states_stack_depth)], maxlen=states_stack_depth)\n",
    "    \n",
    "    eps = eps_start                    # initialize epsilon\n",
    "    for i_episode in range(1, n_episodes+1):\n",
    "        \n",
    "        state = env.reset()\n",
    "        \n",
    "        state_inputs = state2StackedInputs(state, states_stack)\n",
    "\n",
    "        score = 0\n",
    "        for t in range(max_t):\n",
    "\n",
    "            action = agent.act(state_inputs, eps) #for action recommendation\n",
    "            \n",
    "            next_state, reward, done, _ = env.step(action)\n",
    "            \n",
    "            next_state_inputs = state_inputs = state2StackedInputs(next_state, states_stack)\n",
    "            \n",
    "            np.expand_dims(state_inputs,0)\n",
    "            \n",
    "            agent.step(state_inputs , action, reward, next_state_inputs, done)\n",
    "\n",
    "            state_inputs = next_state_inputs\n",
    "            score += reward\n",
    "            if done:\n",
    "                break \n",
    "        scores_window.append(score)       # save most recent score\n",
    "        scores.append(score)              # save most recent score\n",
    "        eps = max(eps_end, eps_decay*eps) # decrease epsilon\n",
    "        print('\\rEpisode {}\\tAverage Score: {:.2f}'.format(i_episode, np.mean(scores_window)), end=\"\")\n",
    "        if i_episode % 100 == 0:\n",
    "            print('\\rEpisode {}\\tAverage Score: {:.2f}\\teps: {:.2f}'.format(i_episode, np.mean(scores_window), eps))\n",
    "        \n",
    "        if np.mean(scores_window)>=1000.0:\n",
    "            print('\\nEnvironment solved in {:d} episodes!\\tAverage Score: {:.2f}'.format(i_episode-100,\n",
    "                                                                                         np.mean(scores_window)))\n",
    "            torch.save(agent.qnetwork_local.state_dict(), model_dir+model_name)\n",
    "            break\n",
    "        \n",
    "    return scores\n",
    "\n",
    "scores = dqn_3D(20)\n",
    "\n",
    "# plot the scores\n",
    "fig = plt.figure()\n",
    "ax = fig.add_subplot(111)\n",
    "plt.plot(np.arange(len(scores)), scores)\n",
    "plt.ylabel('Score')\n",
    "plt.xlabel('Episode #')\n",
    "plt.show()"
   ]
  },
  {
   "cell_type": "code",
   "execution_count": 9,
   "metadata": {},
   "outputs": [],
   "source": [
    "# Saving the model\n",
    "model_dir = 'saved_models/'\n",
    "model_name = 'MsPacman-3D-v0.pt'\n",
    "\n",
    "# after training, save your model parameters in the dir 'saved_models'\n",
    "torch.save(agent.qnetwork_local.state_dict(), model_dir+model_name)"
   ]
  },
  {
   "cell_type": "code",
   "execution_count": 11,
   "metadata": {},
   "outputs": [
    {
     "data": {
      "image/png": "[encoded data removed]",
      "text/plain": [
       "<Figure size 432x288 with 1 Axes>"
      ]
     },
     "metadata": {},
     "output_type": "display_data"
    }
   ],
   "source": [
    "# load the weights from file\n",
    "#torch.load(agent.qnetwork_local.state_dict(), model_dir+model_name)\n",
    "\n",
    "for i in range(3):\n",
    "    # watch an untrained agent\n",
    "    states_stack = deque([torch.zeros(input_shape) for z in range(states_stack_depth)], maxlen=states_stack_depth)\n",
    "\n",
    "    state = env.reset()\n",
    "    state_inputs = state2StackedInputs(state, states_stack)\n",
    "    img = plt.imshow(env.render(mode='rgb_array'))\n",
    "    for j in range(1000):\n",
    "        action = agent.act(state_inputs)\n",
    "        img.set_data(env.render(mode='rgb_array')) \n",
    "        plt.axis('off')\n",
    "        display.display(plt.gcf())\n",
    "        display.clear_output(wait=True)\n",
    "        state, reward, done, _ = env.step(action)\n",
    "        if done:\n",
    "            break \n",
    "            \n",
    "env.close()"
   ]
  },
  {
   "cell_type": "code",
   "execution_count": null,
   "metadata": {},
   "outputs": [],
   "source": []
  }
 ],
 "metadata": {
  "kernelspec": {
   "display_name": "Python 3",
   "language": "python",
   "name": "python3"
  },
  "language_info": {
   "codemirror_mode": {
    "name": "ipython",
    "version": 3
   },
   "file_extension": ".py",
   "mimetype": "text/x-python",
   "name": "python",
   "nbconvert_exporter": "python",
   "pygments_lexer": "ipython3",
   "version": "3.5.5"
  }
 },
 "nbformat": 4,
 "nbformat_minor": 2
}
