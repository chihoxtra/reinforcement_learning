{
 "cells": [
  {
   "cell_type": "markdown",
   "metadata": {},
   "source": [
    "The problem statement:\n",
    "https://gym.openai.com/envs/MsPacman-v0"
   ]
  },
  {
   "cell_type": "code",
   "execution_count": 1,
   "metadata": {},
   "outputs": [
    {
     "name": "stdout",
     "output_type": "stream",
     "text": [
      "Requirement already satisfied: pyvirtualdisplay in /Users/samuelpun_old/anaconda3/lib/python3.6/site-packages (0.2.1)\n",
      "Requirement already satisfied: EasyProcess in /Users/samuelpun_old/anaconda3/lib/python3.6/site-packages (from pyvirtualdisplay) (0.2.5)\n",
      "\u001b[33mYou are using pip version 18.0, however version 18.1 is available.\n",
      "You should consider upgrading via the 'pip install --upgrade pip' command.\u001b[0m\n"
     ]
    }
   ],
   "source": [
    "%load_ext autoreload\n",
    "%autoreload 2\n",
    "\n",
    "import gym\n",
    "import random\n",
    "import torch\n",
    "from torchvision import transforms\n",
    "\n",
    "import numpy as np\n",
    "from collections import deque\n",
    "\n",
    "import matplotlib.pyplot as plt\n",
    "%matplotlib inline\n",
    "\n",
    "from dqn_agent_pacman_3d import Agent\n",
    "from myWrappers import StackEnv\n",
    "\n",
    "!python -m pip install pyvirtualdisplay\n",
    "from pyvirtualdisplay import Display\n",
    "display = Display(visible=0, size=(1400, 900))\n",
    "display.start()\n",
    "\n",
    "is_ipython = 'inline' in plt.get_backend()\n",
    "if is_ipython:\n",
    "    from IPython import display\n",
    "\n",
    "plt.ion()"
   ]
  },
  {
   "cell_type": "code",
   "execution_count": 19,
   "metadata": {},
   "outputs": [
    {
     "name": "stdout",
     "output_type": "stream",
     "text": [
      "State shape:  (210, 160, 3)\n",
      "Number of actions:  9\n"
     ]
    }
   ],
   "source": [
    "# Original Gym Env basic info\n",
    "env = gym.make('MsPacman-v0')\n",
    "env.seed(0)\n",
    "state_space = env.observation_space.shape\n",
    "action_space = env.action_space.n\n",
    "input_shape = (84,84)\n",
    "states_stack_depth = 4\n",
    "print('State shape: ', state_space)\n",
    "print('Number of actions: ', action_space)"
   ]
  },
  {
   "cell_type": "code",
   "execution_count": 21,
   "metadata": {},
   "outputs": [],
   "source": [
    "#to get all the preprosing logic done in this class\n",
    "from myWrappers import StackEnv\n",
    "stackenv = StackEnv(gym.make('MsPacman-v0'))"
   ]
  },
  {
   "cell_type": "code",
   "execution_count": 20,
   "metadata": {},
   "outputs": [
    {
     "data": {
      "text/plain": [
       "<matplotlib.image.AxesImage at 0x121fd9780>"
      ]
     },
     "execution_count": 20,
     "metadata": {},
     "output_type": "execute_result"
    },
    {
     "data": {
      "image/png": "[encoded data removed]",
      "text/plain": [
       "<Figure size 720x432 with 3 Axes>"
      ]
     },
     "metadata": {},
     "output_type": "display_data"
    }
   ],
   "source": [
    "#import images\n",
    "s = env.reset()\n",
    "s0, s1, s2 = None, None, None\n",
    "\n",
    "sampleframe = 240\n",
    "\n",
    "fig, (ax1, ax2, ax3) = plt.subplots(1,3, figsize=(10,6)) \n",
    "for i in range(1000):\n",
    "    s, r, d, _ = env.step(1)\n",
    "    if i == sampleframe:\n",
    "        s0 = s\n",
    "    if i == (sampleframe+1):\n",
    "        s1= s\n",
    "    if i == (sampleframe+2):\n",
    "        s2= s\n",
    "ax1.imshow(s0)\n",
    "ax2.imshow(s1)\n",
    "ax3.imshow(s2)"
   ]
  },
  {
   "cell_type": "code",
   "execution_count": 25,
   "metadata": {},
   "outputs": [
    {
     "name": "stdout",
     "output_type": "stream",
     "text": [
      "(4, 84, 84)\n"
     ]
    }
   ],
   "source": [
    "s = stackenv.reset()\n",
    "ns, r, d = stackenv.step(0)\n",
    "print(ns.shape)"
   ]
  },
  {
   "cell_type": "code",
   "execution_count": 26,
   "metadata": {},
   "outputs": [
    {
     "data": {
      "image/png": "[encoded data removed]",
      "text/plain": [
       "<Figure size 432x288 with 1 Axes>"
      ]
     },
     "metadata": {},
     "output_type": "display_data"
    }
   ],
   "source": [
    "untrained_agent = Agent(state_size=states_stack_depth, action_size=action_space, seed=10)\n",
    "\n",
    "# watch an untrained agent\n",
    "\n",
    "state_inputs = stackenv.reset()\n",
    "\n",
    "img = plt.imshow(stackenv.env.render(mode='rgb_array'))\n",
    "for j in range(1000):\n",
    "    action = untrained_agent.act(state_inputs)\n",
    "    img.set_data(stackenv.env.render(mode='rgb_array')) \n",
    "    plt.axis('off')\n",
    "    display.display(plt.gcf())\n",
    "    display.clear_output(wait=True)\n",
    "\n",
    "    next_state_inputs, reward, done = stackenv.step(action)\n",
    "    state_inputs = next_state_inputs\n",
    "    \n",
    "    if done:\n",
    "        break \n",
    "        \n",
    "env.close()"
   ]
  },
  {
   "cell_type": "code",
   "execution_count": 10,
   "metadata": {},
   "outputs": [],
   "source": [
    "def loadTrainedModel(agent, path):\n",
    "    state_dicts = torch.load(path)\n",
    "    print(state_dicts['model'].keys())\n",
    "\n",
    "    agent.qnetwork_local.load_state_dict(state_dicts['model'])\n",
    "    agent.optimizer.load_state_dict(state_dicts['optimizer'])"
   ]
  },
  {
   "cell_type": "code",
   "execution_count": 11,
   "metadata": {},
   "outputs": [],
   "source": [
    "def saveTrainedModel(agent, path):\n",
    "    state_dicts = {'model': agent.qnetwork_local.state_dict(), 'optimizer': agent.optimizer.state_dict()}\n",
    "    torch.save(state_dicts, path)"
   ]
  },
  {
   "cell_type": "code",
   "execution_count": 12,
   "metadata": {},
   "outputs": [
    {
     "name": "stdout",
     "output_type": "stream",
     "text": [
      "odict_keys(['conv1.weight', 'conv1.bias', 'conv2.weight', 'conv2.bias', 'conv3.weight', 'conv3.bias', 'fc1.weight', 'fc1.bias', 'fc2.weight', 'fc2.bias'])\n"
     ]
    }
   ],
   "source": [
    "model_dir = 'saved_models/'\n",
    "model_name = 'MsPacman-3D-all-dicts-AWS.pt'\n",
    "\n",
    "agent = Agent(state_size=states_stack_depth, action_size=action_space, seed=0)\n",
    "\n",
    "loadTrainedModel(agent, model_dir+model_name)"
   ]
  },
  {
   "cell_type": "code",
   "execution_count": 13,
   "metadata": {},
   "outputs": [
    {
     "name": "stdout",
     "output_type": "stream",
     "text": [
      "Episode 100\tAverage Score: 217.70\teps: 0.95\n",
      "Episode 200\tAverage Score: 242.40\teps: 0.90\n",
      "Episode 300\tAverage Score: 238.60\teps: 0.86\n",
      "Episode 400\tAverage Score: 234.90\teps: 0.82\n",
      "Episode 500\tAverage Score: 245.60\teps: 0.78\n"
     ]
    },
    {
     "data": {
      "image/png": "[encoded data removed]",
      "text/plain": [
       "<Figure size 432x288 with 1 Axes>"
      ]
     },
     "metadata": {},
     "output_type": "display_data"
    }
   ],
   "source": [
    "model_dir = 'saved_models/'\n",
    "model_name = 'MsPacman-v0-3D-all-dicts-AWS.pt'\n",
    "\n",
    "def dqn_3D(n_episodes=1000, max_t=1000, eps_start=1.0, eps_end=0.05, eps_decay=0.9995, skipframe_max=4):\n",
    "    \"\"\"Deep Q-Learning.\n",
    "    \n",
    "    Params\n",
    "    ======\n",
    "        n_episodes (int): maximum number of training episodes\n",
    "        max_t (int): maximum number of timesteps per episode\n",
    "        eps_start (float): starting value of epsilon, for epsilon-greedy action selection\n",
    "        eps_end (float): minimum value of epsilon\n",
    "        eps_decay (float): multiplicative factor (per episode) for decreasing epsilon\n",
    "    \"\"\"\n",
    "    scores = []                        # list containing scores from each episode\n",
    "    scores_window = deque(maxlen=100)  # last 100 scores\n",
    "    frame_counter = 0                  # keep track of number of frames seen\n",
    "    \n",
    "    eps = eps_start                    # initialize epsilon \n",
    "    eps_decay=1-1/(1000+500)           # make sure decay come to min \n",
    "    \n",
    "    for i_episode in range(1, n_episodes+1):\n",
    "        \n",
    "        state = env.reset()\n",
    "        \n",
    "        #stack to keep track of most recent states\n",
    "        states_stack = deque([torch.zeros(input_shape) for z in range(states_stack_depth)], maxlen=states_stack_depth)\n",
    "        \n",
    "        state_inputs = state2StackedInputs(states_stack, state, np.zeros(state.shape, dtype=np.uint8))\n",
    "        #state_inputs = state2StackedInputs(states_stack, state)\n",
    "        \n",
    "        last_state = state\n",
    "\n",
    "        score = 0\n",
    "        skip_counter = 0\n",
    "        for t in range(max_t):\n",
    "\n",
    "            action = agent.act(state_inputs, eps) #for action recommendation\n",
    "            \n",
    "            next_state, reward, done, _ = env.step(action)\n",
    "            frame_counter += 1\n",
    "\n",
    "            next_state_inputs = state2StackedInputs(states_stack, next_state, last_state)\n",
    "\n",
    "            \n",
    "            if skip_counter >= skipframe_max:\n",
    "                agent.step(state_inputs , action, reward, next_state_inputs, done)\n",
    "                skip_counter = 0\n",
    "            else:\n",
    "                skip_counter += 1\n",
    "\n",
    "            state_inputs = next_state_inputs\n",
    "            last_state = next_state\n",
    "            \n",
    "            score += reward\n",
    "            if done and skip_counter==0:\n",
    "                break \n",
    "        scores_window.append(score)       # save most recent score\n",
    "        scores.append(score)              # save most recent score\n",
    "        \n",
    "        eps = max(eps_end, eps_decay*eps) # decrease epsilon\n",
    "        \n",
    "        print('\\rEpisode: {}\\tAvg Score: {:.2f}'.format(i_episode, np.mean(scores_window)), end=\"\")\n",
    "\n",
    "        if i_episode % 100 == 0:\n",
    "            latest_lr = agent.optimizer.state_dict()['param_groups'][0]['lr']\n",
    "            \n",
    "            print(('\\rEpisode: {}\\tAvg Score: {:.2f}\\tsteps: {}'\n",
    "                   '\\tlr: {:1.2e}\\tp: {:.3f}  b: {:.3f}').format(i_episode, np.mean(scores_window),\n",
    "                                                                 agent.t_step,latest_lr, \n",
    "                                                                 agent.p_discount, \n",
    "                                                                 agent.sampling_bias, end=\"\")) \n",
    "\n",
    "            saveTrainedModel(agent, model_dir+model_name)\n",
    "        \n",
    "        if np.mean(scores_window)>=1000.0:\n",
    "            print('\\nEnvironment solved in {:d} episodes!\\tAverage Score: {:.2f}'.format(i_episode-100,\n",
    "                                                                                         np.mean(scores_window)))\n",
    "            \n",
    "            saveTrainedModel(agent, model_dir+model_name)\n",
    "            break\n",
    "        \n",
    "    return scores\n",
    "\n",
    "scores = dqn_3D(3000)\n",
    "\n",
    "# plot the scores\n",
    "fig = plt.figure()\n",
    "ax = fig.add_subplot(111)\n",
    "plt.plot(np.arange(len(scores)), scores)\n",
    "plt.ylabel('Score')\n",
    "plt.xlabel('Episode #')\n",
    "plt.show()"
   ]
  },
  {
   "cell_type": "code",
   "execution_count": 14,
   "metadata": {},
   "outputs": [],
   "source": [
    "saveTrainedModel(agent, model_dir+model_name)"
   ]
  },
  {
   "cell_type": "code",
   "execution_count": 20,
   "metadata": {},
   "outputs": [
    {
     "data": {
      "image/png": "[encoded data removed]",
      "text/plain": [
       "<Figure size 432x288 with 1 Axes>"
      ]
     },
     "metadata": {},
     "output_type": "display_data"
    }
   ],
   "source": [
    "# load the weights from file\n",
    "#torch.load(agent.qnetwork_local.state_dict(), model_dir+model_name)\n",
    "agent.qnetwork_local.eval()\n",
    "agent.qnetwork_target.eval()\n",
    "\n",
    "for i in range(3):\n",
    "    # watch an untrained agent\n",
    "    states_stack = deque([torch.zeros(input_shape) for z in range(states_stack_depth)], maxlen=states_stack_depth)\n",
    "\n",
    "    state = env.reset()\n",
    "    state_inputs = state2StackedInputs(states_stack, state)\n",
    "    last_state = state\n",
    "    \n",
    "    img = plt.imshow(env.render(mode='rgb_array'))\n",
    "    for j in range(1000):\n",
    "        action = agent.act(state_inputs)\n",
    "        img.set_data(env.render(mode='rgb_array')) \n",
    "        plt.axis('off')\n",
    "        display.display(plt.gcf())\n",
    "        display.clear_output(wait=True)\n",
    "        next_state, reward, done, _ = env.step(action)\n",
    "        \n",
    "        next_state_inputs = state2StackedInputs(states_stack, next_state, last_state)\n",
    "        state_inputs = next_state_inputs\n",
    "        last_state = next_state\n",
    "        \n",
    "        if done:\n",
    "            break \n",
    "\n",
    "agent.qnetwork_local.train()\n",
    "agent.qnetwork_target.train()\n",
    "            \n",
    "env.close()"
   ]
  },
  {
   "cell_type": "code",
   "execution_count": null,
   "metadata": {},
   "outputs": [],
   "source": []
  }
 ],
 "metadata": {
  "kernelspec": {
   "display_name": "Python 3",
   "language": "python",
   "name": "python3"
  },
  "language_info": {
   "codemirror_mode": {
    "name": "ipython",
    "version": 3
   },
   "file_extension": ".py",
   "mimetype": "text/x-python",
   "name": "python",
   "nbconvert_exporter": "python",
   "pygments_lexer": "ipython3",
   "version": "3.5.5"
  }
 },
 "nbformat": 4,
 "nbformat_minor": 2
}
